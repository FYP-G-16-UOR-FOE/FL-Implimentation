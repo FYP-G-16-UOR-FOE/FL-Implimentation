{
 "cells": [
  {
   "cell_type": "markdown",
   "metadata": {},
   "source": [
    "### Import Libraries\n"
   ]
  },
  {
   "cell_type": "code",
   "execution_count": 2,
   "metadata": {},
   "outputs": [
    {
     "name": "stdout",
     "output_type": "stream",
     "text": [
      "Collecting torch\n",
      "  Downloading torch-2.7.1-cp311-none-macosx_11_0_arm64.whl.metadata (29 kB)\n",
      "Collecting torchvision\n",
      "  Downloading torchvision-0.22.1-cp311-cp311-macosx_11_0_arm64.whl.metadata (6.1 kB)\n",
      "Collecting matplotlib\n",
      "  Downloading matplotlib-3.10.3-cp311-cp311-macosx_11_0_arm64.whl.metadata (11 kB)\n",
      "Collecting tqdm\n",
      "  Using cached tqdm-4.67.1-py3-none-any.whl.metadata (57 kB)\n",
      "Collecting filelock (from torch)\n",
      "  Downloading filelock-3.18.0-py3-none-any.whl.metadata (2.9 kB)\n",
      "Requirement already satisfied: typing-extensions>=4.10.0 in /Users/jaanumacbook/FYP/Implementations/FL-Implimentation/.venv/lib/python3.11/site-packages (from torch) (4.14.0)\n",
      "Collecting sympy>=1.13.3 (from torch)\n",
      "  Downloading sympy-1.14.0-py3-none-any.whl.metadata (12 kB)\n",
      "Collecting networkx (from torch)\n",
      "  Downloading networkx-3.5-py3-none-any.whl.metadata (6.3 kB)\n",
      "Collecting jinja2 (from torch)\n",
      "  Using cached jinja2-3.1.6-py3-none-any.whl.metadata (2.9 kB)\n",
      "Collecting fsspec (from torch)\n",
      "  Downloading fsspec-2025.5.1-py3-none-any.whl.metadata (11 kB)\n",
      "Collecting numpy (from torchvision)\n",
      "  Downloading numpy-2.3.0-cp311-cp311-macosx_14_0_arm64.whl.metadata (62 kB)\n",
      "Collecting pillow!=8.3.*,>=5.3.0 (from torchvision)\n",
      "  Downloading pillow-11.2.1-cp311-cp311-macosx_11_0_arm64.whl.metadata (8.9 kB)\n",
      "Collecting contourpy>=1.0.1 (from matplotlib)\n",
      "  Downloading contourpy-1.3.2-cp311-cp311-macosx_11_0_arm64.whl.metadata (5.5 kB)\n",
      "Collecting cycler>=0.10 (from matplotlib)\n",
      "  Using cached cycler-0.12.1-py3-none-any.whl.metadata (3.8 kB)\n",
      "Collecting fonttools>=4.22.0 (from matplotlib)\n",
      "  Downloading fonttools-4.58.4-cp311-cp311-macosx_10_9_universal2.whl.metadata (106 kB)\n",
      "Collecting kiwisolver>=1.3.1 (from matplotlib)\n",
      "  Using cached kiwisolver-1.4.8-cp311-cp311-macosx_11_0_arm64.whl.metadata (6.2 kB)\n",
      "Requirement already satisfied: packaging>=20.0 in /Users/jaanumacbook/FYP/Implementations/FL-Implimentation/.venv/lib/python3.11/site-packages (from matplotlib) (25.0)\n",
      "Collecting pyparsing>=2.3.1 (from matplotlib)\n",
      "  Downloading pyparsing-3.2.3-py3-none-any.whl.metadata (5.0 kB)\n",
      "Requirement already satisfied: python-dateutil>=2.7 in /Users/jaanumacbook/FYP/Implementations/FL-Implimentation/.venv/lib/python3.11/site-packages (from matplotlib) (2.9.0.post0)\n",
      "Requirement already satisfied: six>=1.5 in /Users/jaanumacbook/FYP/Implementations/FL-Implimentation/.venv/lib/python3.11/site-packages (from python-dateutil>=2.7->matplotlib) (1.17.0)\n",
      "Collecting mpmath<1.4,>=1.1.0 (from sympy>=1.13.3->torch)\n",
      "  Using cached mpmath-1.3.0-py3-none-any.whl.metadata (8.6 kB)\n",
      "Collecting MarkupSafe>=2.0 (from jinja2->torch)\n",
      "  Using cached MarkupSafe-3.0.2-cp311-cp311-macosx_11_0_arm64.whl.metadata (4.0 kB)\n",
      "Downloading torch-2.7.1-cp311-none-macosx_11_0_arm64.whl (68.6 MB)\n",
      "\u001b[2K   \u001b[90m━━━━━━━━━━━━━━━━━━━━━━━━━━━━━━━━━━━━━━━━\u001b[0m \u001b[32m68.6/68.6 MB\u001b[0m \u001b[31m346.8 kB/s\u001b[0m eta \u001b[36m0:00:00\u001b[0m00:01\u001b[0m00:06\u001b[0m\n",
      "\u001b[?25hDownloading torchvision-0.22.1-cp311-cp311-macosx_11_0_arm64.whl (1.9 MB)\n",
      "\u001b[2K   \u001b[90m━━━━━━━━━━━━━━━━━━━━━━━━━━━━━━━━━━━━━━━━\u001b[0m \u001b[32m1.9/1.9 MB\u001b[0m \u001b[31m427.2 kB/s\u001b[0m eta \u001b[36m0:00:00\u001b[0ma \u001b[36m0:00:01\u001b[0m\n",
      "\u001b[?25hDownloading matplotlib-3.10.3-cp311-cp311-macosx_11_0_arm64.whl (8.1 MB)\n",
      "\u001b[2K   \u001b[90m━━━━━━━━━━━━━━━━━━━━━━━━━━━━━━━━━━━━━━━━\u001b[0m \u001b[32m8.1/8.1 MB\u001b[0m \u001b[31m564.5 kB/s\u001b[0m eta \u001b[36m0:00:00\u001b[0m00:01\u001b[0m00:01\u001b[0m\n",
      "\u001b[?25hUsing cached tqdm-4.67.1-py3-none-any.whl (78 kB)\n",
      "Downloading contourpy-1.3.2-cp311-cp311-macosx_11_0_arm64.whl (254 kB)\n",
      "Using cached cycler-0.12.1-py3-none-any.whl (8.3 kB)\n",
      "Downloading fonttools-4.58.4-cp311-cp311-macosx_10_9_universal2.whl (2.8 MB)\n",
      "\u001b[2K   \u001b[90m━━━━━━━━━━━━━━━━━━━━━━━━━━━━━━━━━━━━━━━━\u001b[0m \u001b[32m2.8/2.8 MB\u001b[0m \u001b[31m552.0 kB/s\u001b[0m eta \u001b[36m0:00:00\u001b[0ma \u001b[36m0:00:01\u001b[0m\n",
      "\u001b[?25hUsing cached kiwisolver-1.4.8-cp311-cp311-macosx_11_0_arm64.whl (65 kB)\n",
      "Downloading numpy-2.3.0-cp311-cp311-macosx_14_0_arm64.whl (5.4 MB)\n",
      "\u001b[2K   \u001b[90m━━━━━━━━━━━━━━━━━━━━━━━━━━━━━━━━━━━━━━━━\u001b[0m \u001b[32m5.4/5.4 MB\u001b[0m \u001b[31m331.8 kB/s\u001b[0m eta \u001b[36m0:00:00\u001b[0m00:01\u001b[0m00:02\u001b[0m\n",
      "\u001b[?25hDownloading pillow-11.2.1-cp311-cp311-macosx_11_0_arm64.whl (3.0 MB)\n",
      "\u001b[2K   \u001b[90m━━━━━━━━━━━━━━━━━━━━━━━━━━━━━━━━━━━━━━━━\u001b[0m \u001b[32m3.0/3.0 MB\u001b[0m \u001b[31m464.7 kB/s\u001b[0m eta \u001b[36m0:00:00\u001b[0ma \u001b[36m0:00:01\u001b[0m\n",
      "\u001b[?25hDownloading pyparsing-3.2.3-py3-none-any.whl (111 kB)\n",
      "Downloading sympy-1.14.0-py3-none-any.whl (6.3 MB)\n",
      "\u001b[2K   \u001b[90m━━━━━━━━━━━━━━━━━━━━━━━━━━━━━━━━━━━━━━━━\u001b[0m \u001b[32m6.3/6.3 MB\u001b[0m \u001b[31m576.2 kB/s\u001b[0m eta \u001b[36m0:00:00\u001b[0ma \u001b[36m0:00:01\u001b[0m\n",
      "\u001b[?25hUsing cached mpmath-1.3.0-py3-none-any.whl (536 kB)\n",
      "Downloading filelock-3.18.0-py3-none-any.whl (16 kB)\n",
      "Downloading fsspec-2025.5.1-py3-none-any.whl (199 kB)\n",
      "Using cached jinja2-3.1.6-py3-none-any.whl (134 kB)\n",
      "Using cached MarkupSafe-3.0.2-cp311-cp311-macosx_11_0_arm64.whl (12 kB)\n",
      "Downloading networkx-3.5-py3-none-any.whl (2.0 MB)\n",
      "\u001b[2K   \u001b[90m━━━━━━━━━━━━━━━━━━━━━━━━━━━━━━━━━━━━━━━━\u001b[0m \u001b[32m2.0/2.0 MB\u001b[0m \u001b[31m534.5 kB/s\u001b[0m eta \u001b[36m0:00:00\u001b[0ma \u001b[36m0:00:01\u001b[0m\n",
      "\u001b[?25hInstalling collected packages: mpmath, tqdm, sympy, pyparsing, pillow, numpy, networkx, MarkupSafe, kiwisolver, fsspec, fonttools, filelock, cycler, jinja2, contourpy, torch, matplotlib, torchvision\n",
      "\u001b[2K   \u001b[90m━━━━━━━━━━━━━━━━━━━━━━━━━━━━━━━━━━━━━━━━\u001b[0m \u001b[32m18/18\u001b[0m [torchvision]\u001b[0m [torchvision]\n",
      "\u001b[1A\u001b[2KSuccessfully installed MarkupSafe-3.0.2 contourpy-1.3.2 cycler-0.12.1 filelock-3.18.0 fonttools-4.58.4 fsspec-2025.5.1 jinja2-3.1.6 kiwisolver-1.4.8 matplotlib-3.10.3 mpmath-1.3.0 networkx-3.5 numpy-2.3.0 pillow-11.2.1 pyparsing-3.2.3 sympy-1.14.0 torch-2.7.1 torchvision-0.22.1 tqdm-4.67.1\n",
      "Note: you may need to restart the kernel to use updated packages.\n"
     ]
    }
   ],
   "source": [
    "%pip install torch torchvision matplotlib tqdm"
   ]
  },
  {
   "cell_type": "code",
   "execution_count": 28,
   "metadata": {
    "execution": {
     "iopub.execute_input": "2025-05-28T10:00:41.393533Z",
     "iopub.status.busy": "2025-05-28T10:00:41.393007Z",
     "iopub.status.idle": "2025-05-28T10:00:41.398070Z",
     "shell.execute_reply": "2025-05-28T10:00:41.397259Z",
     "shell.execute_reply.started": "2025-05-28T10:00:41.393510Z"
    },
    "trusted": true
   },
   "outputs": [],
   "source": [
    "import torch\n",
    "import torch.nn as nn\n",
    "import torch.nn.functional as F\n",
    "import torch.optim as optim\n",
    "import torchvision\n",
    "import torchvision.transforms as transforms\n",
    "import matplotlib.pyplot as plt\n",
    "import numpy as np\n",
    "import copy\n",
    "from torch.utils.data import DataLoader, Subset\n",
    "import gzip\n",
    "import os\n"
   ]
  },
  {
   "cell_type": "markdown",
   "metadata": {},
   "source": [
    "### CNN Model\n"
   ]
  },
  {
   "cell_type": "code",
   "execution_count": 29,
   "metadata": {
    "execution": {
     "iopub.execute_input": "2025-05-28T10:00:44.110469Z",
     "iopub.status.busy": "2025-05-28T10:00:44.109875Z",
     "iopub.status.idle": "2025-05-28T10:00:44.116382Z",
     "shell.execute_reply": "2025-05-28T10:00:44.115659Z",
     "shell.execute_reply.started": "2025-05-28T10:00:44.110448Z"
    },
    "trusted": true
   },
   "outputs": [],
   "source": [
    "# Define the CNN model\n",
    "class Net(nn.Module):\n",
    "    def __init__(self):\n",
    "        super(Net, self).__init__()\n",
    "        self.conv1 = nn.Conv2d(3, 32, kernel_size=3, padding=1)\n",
    "        self.conv2 = nn.Conv2d(32, 64, kernel_size=3, padding=1)\n",
    "        self.conv3 = nn.Conv2d(64, 128, kernel_size=3, padding=1)\n",
    "        self.pool = nn.MaxPool2d(2, 2)\n",
    "        self.fc1 = nn.Linear(128 * 4 * 4, 256)\n",
    "        self.fc2 = nn.Linear(256, 128)\n",
    "        self.fc3 = nn.Linear(128, 10)\n",
    "        self.dropout = nn.Dropout(0.5)\n",
    "\n",
    "    def forward(self, x):\n",
    "        x = self.pool(F.relu(self.conv1(x)))  # [B, 32, 16, 16]\n",
    "        x = self.pool(F.relu(self.conv2(x)))  # [B, 64, 8, 8]\n",
    "        x = self.pool(F.relu(self.conv3(x)))  # [B, 128, 4, 4]\n",
    "        x = x.view(-1, 128 * 4 * 4)           # Flatten\n",
    "        x = F.relu(self.fc1(x))\n",
    "        x = self.dropout(x)\n",
    "        x = F.relu(self.fc2(x))\n",
    "        x = self.fc3(x)\n",
    "        return x"
   ]
  },
  {
   "cell_type": "markdown",
   "metadata": {},
   "source": [
    "### Data Partitioning\n"
   ]
  },
  {
   "cell_type": "code",
   "execution_count": null,
   "metadata": {},
   "outputs": [],
   "source": [
    "def load_data_from_disk(partition_id: int, only_server_test_data: bool = False):\n",
    "    save_dir = \"../data/client_dataset\"\n",
    "    BATCH_SIZE = 64\n",
    "\n",
    "    if only_server_test_data:\n",
    "        testset = torchvision.datasets.CIFAR10(\n",
    "            root='./data', train=False, download=True,\n",
    "            transform=transforms.Compose([\n",
    "                transforms.ToTensor(),\n",
    "                transforms.Normalize((0.5,0.5,0.5),(0.5,0.5,0.5))\n",
    "            ])\n",
    "        )\n",
    "        return DataLoader(testset, batch_size=BATCH_SIZE, num_workers=8)\n",
    "\n",
    "    client_filenames = [\n",
    "        os.path.join(save_dir, f'client_{partition_id}.pt.gz'),\n",
    "        os.path.join(save_dir, f'iid_clients_{partition_id}.pt.gz')\n",
    "    ]\n",
    "    for path in client_filenames:\n",
    "        if os.path.exists(path):\n",
    "            partition_data_path = path\n",
    "            break\n",
    "    else:\n",
    "        raise FileNotFoundError(f\"No data file for client {partition_id}\")\n",
    "\n",
    "    with gzip.open(partition_data_path, 'rb') as f:\n",
    "        device_data = torch.load(f, map_location='cpu')\n",
    "    device_data = [(x.to(torch.float32), y) for x,y in device_data]\n",
    "    np.random.shuffle(device_data)\n",
    "    split = int(len(device_data)*0.8)\n",
    "    train_data, test_data = device_data[:split], device_data[split:]\n",
    "\n",
    "    normalize = transforms.Normalize((0.5,0.5,0.5),(0.5,0.5,0.5))\n",
    "    train_data = [(normalize(x), y) for x,y in train_data]\n",
    "    test_data  = [(normalize(x), y) for x,y in test_data]\n",
    "\n",
    "    trainloader = DataLoader(train_data, batch_size=BATCH_SIZE, shuffle=True, num_workers=1)\n",
    "    valloader  = DataLoader(test_data,  batch_size=BATCH_SIZE, num_workers=1)\n",
    "    return trainloader, valloader\n",
    "\n"
   ]
  },
  {
   "cell_type": "markdown",
   "metadata": {},
   "source": [
    "### Train Local Model Function\n"
   ]
  },
  {
   "cell_type": "code",
   "execution_count": 36,
   "metadata": {},
   "outputs": [],
   "source": [
    "# Parameters\n",
    "FL_ROUNDS = 20\n",
    "LOCAL_EPOCHS = 3\n",
    "NUM_CLIENTS = 50"
   ]
  },
  {
   "cell_type": "code",
   "execution_count": 32,
   "metadata": {
    "execution": {
     "iopub.execute_input": "2025-05-28T10:01:09.380844Z",
     "iopub.status.busy": "2025-05-28T10:01:09.380354Z",
     "iopub.status.idle": "2025-05-28T10:01:09.389838Z",
     "shell.execute_reply": "2025-05-28T10:01:09.389140Z",
     "shell.execute_reply.started": "2025-05-28T10:01:09.380820Z"
    },
    "trusted": true
   },
   "outputs": [],
   "source": [
    "def train_local(client_id, global_model, train_loader, epochs=1, device='cpu'):\n",
    "\n",
    "    model = copy.deepcopy(global_model).to(device)\n",
    "    model.train()\n",
    "    optimizer = optim.SGD(model.parameters(), lr=1e-1, momentum=0.9)\n",
    "    criterion = nn.CrossEntropyLoss()\n",
    "\n",
    "    for epoch in range(epochs):\n",
    "\n",
    "        total_loss = 0.0\n",
    "        correct = 0\n",
    "        total = 0\n",
    "\n",
    "        for inputs, labels in train_loader:\n",
    "            inputs, labels = inputs.to(device), labels.to(device)\n",
    "\n",
    "            optimizer.zero_grad()\n",
    "            outputs = model(inputs)\n",
    "            loss = criterion(outputs, labels)\n",
    "            loss.backward()\n",
    "            optimizer.step()\n",
    "\n",
    "            total_loss += loss.item() * inputs.size(0)\n",
    "\n",
    "            _, predicted = outputs.max(1)\n",
    "            correct += predicted.eq(labels).sum().item()\n",
    "            total += labels.size(0)\n",
    "\n",
    "        avg_loss = total_loss / total\n",
    "        accuracy = 100. * correct / total\n",
    "        print(f\" Client {client_id} Epoch {epoch+1}: Loss = {avg_loss:.4f}, Accuracy = {accuracy:.2f}%\")\n",
    "\n",
    "    return model.state_dict()\n",
    "\n",
    "\n",
    "def test_model(model, testloader, device='cpu'):\n",
    "    model.eval()\n",
    "    correct, total = 0, 0\n",
    "    total_loss = 0.0\n",
    "    criterion = nn.CrossEntropyLoss()\n",
    "    with torch.no_grad():\n",
    "        for images, labels in testloader:\n",
    "            images, labels = images.to(device), labels.to(device)\n",
    "            outputs = model(images)\n",
    "            loss = criterion(outputs, labels)\n",
    "            total_loss += loss.item() * images.size(0)\n",
    "            _, predicted = torch.max(outputs, 1)\n",
    "            total += labels.size(0)\n",
    "            correct += (predicted == labels).sum().item()\n",
    "    avg_loss = total_loss / total\n",
    "    accuracy = 100 * correct / total\n",
    "    return accuracy, avg_loss\n"
   ]
  },
  {
   "cell_type": "markdown",
   "metadata": {},
   "source": [
    "### Aggregation Algorithms\n"
   ]
  },
  {
   "cell_type": "code",
   "execution_count": 33,
   "metadata": {
    "execution": {
     "iopub.execute_input": "2025-05-28T10:01:13.383829Z",
     "iopub.status.busy": "2025-05-28T10:01:13.383180Z",
     "iopub.status.idle": "2025-05-28T10:01:13.389795Z",
     "shell.execute_reply": "2025-05-28T10:01:13.389059Z",
     "shell.execute_reply.started": "2025-05-28T10:01:13.383805Z"
    },
    "trusted": true
   },
   "outputs": [],
   "source": [
    "# Weight Divergence Calculation\n",
    "def calculate_weight_divergence(ref_params, client_params):\n",
    "    divergence = 0.0\n",
    "    for key in ref_params.keys():\n",
    "        divergence += torch.norm(ref_params[key] - client_params[key]) ** 2\n",
    "    return torch.sqrt(divergence).item()\n",
    "\n",
    "\n",
    "def calculate_normalized_weight_divergence(ref_params, client_params):\n",
    "    numerator = 0.0\n",
    "    denominator = 0.0\n",
    "\n",
    "    for key in client_params:\n",
    "        diff = client_params[key] - ref_params[key]\n",
    "        numerator += torch.norm(diff, p=2).item() ** 2\n",
    "        denominator += torch.norm(ref_params[key], p=2).item() ** 2\n",
    "\n",
    "    numerator = numerator ** 0.5\n",
    "    denominator = denominator ** 0.5\n",
    "\n",
    "    if denominator == 0:\n",
    "        return 0.0  # Avoid division by zero\n",
    "\n",
    "    return numerator / denominator\n",
    "\n",
    "\n",
    "def weighted_fed_avg(models_params, weights):\n",
    "    avg_params = copy.deepcopy(models_params[0])\n",
    "    total_weight = sum(weights)\n",
    "    for param_key in avg_params:\n",
    "        weighted_sum = 0.0\n",
    "        for i in range(len(models_params)):\n",
    "            client_param = models_params[i][param_key]\n",
    "            weight = weights[i]\n",
    "            weighted_sum += client_param * weight\n",
    "        avg_params[param_key] = weighted_sum / total_weight\n",
    "    return avg_params"
   ]
  },
  {
   "cell_type": "markdown",
   "metadata": {},
   "source": [
    "### Federated Training\n"
   ]
  },
  {
   "cell_type": "code",
   "execution_count": null,
   "metadata": {
    "execution": {
     "iopub.execute_input": "2025-05-28T10:01:21.029029Z",
     "iopub.status.busy": "2025-05-28T10:01:21.028774Z",
     "iopub.status.idle": "2025-05-28T10:01:21.032638Z",
     "shell.execute_reply": "2025-05-28T10:01:21.032022Z",
     "shell.execute_reply.started": "2025-05-28T10:01:21.029009Z"
    },
    "trusted": true
   },
   "outputs": [],
   "source": [
    "# Create reference client (fully IID)\n",
    "transform = transforms.Compose([transforms.ToTensor(), transforms.Normalize((0.5,), (0.5,))])\n",
    "ref_trainset = torchvision.datasets.CIFAR10(root='./data', train=True, download=True, transform=transform)\n",
    "\n",
    "reference_loader = DataLoader(ref_trainset, batch_size=64, shuffle=True)"
   ]
  },
  {
   "cell_type": "code",
   "execution_count": 35,
   "metadata": {
    "execution": {
     "iopub.execute_input": "2025-05-28T10:02:38.761864Z",
     "iopub.status.busy": "2025-05-28T10:02:38.761510Z",
     "iopub.status.idle": "2025-05-28T10:02:39.043788Z",
     "shell.execute_reply": "2025-05-28T10:02:39.043017Z",
     "shell.execute_reply.started": "2025-05-28T10:02:38.761838Z"
    },
    "trusted": true
   },
   "outputs": [],
   "source": [
    "# Initialize global model\n",
    "device = torch.device(\"cuda\" if torch.cuda.is_available() else \"cpu\")\n",
    "global_model = Net().to(device)"
   ]
  },
  {
   "cell_type": "code",
   "execution_count": null,
   "metadata": {
    "execution": {
     "iopub.execute_input": "2025-05-28T10:02:45.768514Z",
     "iopub.status.busy": "2025-05-28T10:02:45.768010Z",
     "iopub.status.idle": "2025-05-28T10:14:33.867184Z",
     "shell.execute_reply": "2025-05-28T10:14:33.866419Z",
     "shell.execute_reply.started": "2025-05-28T10:02:45.768494Z"
    },
    "trusted": true
   },
   "outputs": [
    {
     "name": "stdout",
     "output_type": "stream",
     "text": [
      "\n",
      "--- Federated Learning Round 1 ---\n",
      "\n",
      " Client 0: Local Training\n",
      "--------------------------------------------------\n",
      " Client 0 Epoch 1: Loss = 1.5440, Accuracy = 50.84%\n",
      " Client 0 Epoch 2: Loss = 0.8982, Accuracy = 53.89%\n",
      " Client 0 Epoch 3: Loss = 0.6764, Accuracy = 62.36%\n",
      "\n",
      " Client 1: Local Training\n",
      "--------------------------------------------------\n",
      " Client 1 Epoch 1: Loss = 1.4105, Accuracy = 48.47%\n",
      " Client 1 Epoch 2: Loss = 0.6838, Accuracy = 60.45%\n",
      " Client 1 Epoch 3: Loss = 0.6712, Accuracy = 61.50%\n",
      "\n",
      " Client 2: Local Training\n",
      "--------------------------------------------------\n",
      " Client 2 Epoch 1: Loss = 3.8055, Accuracy = 57.72%\n",
      " Client 2 Epoch 2: Loss = 0.8464, Accuracy = 57.23%\n",
      " Client 2 Epoch 3: Loss = 0.6849, Accuracy = 61.41%\n",
      "\n",
      " Client 3: Local Training\n",
      "--------------------------------------------------\n",
      " Client 3 Epoch 1: Loss = 2.2768, Accuracy = 48.57%\n",
      " Client 3 Epoch 2: Loss = 0.7769, Accuracy = 48.65%\n",
      " Client 3 Epoch 3: Loss = 0.6946, Accuracy = 52.55%\n",
      "\n",
      " Client 4: Local Training\n",
      "--------------------------------------------------\n",
      " Client 4 Epoch 1: Loss = 1.2550, Accuracy = 58.94%\n",
      " Client 4 Epoch 2: Loss = 0.5960, Accuracy = 68.87%\n",
      " Client 4 Epoch 3: Loss = 0.4946, Accuracy = 76.89%\n",
      "\n",
      " Client 5: Local Training\n",
      "--------------------------------------------------\n",
      " Client 5 Epoch 1: Loss = 1.9557, Accuracy = 21.99%\n",
      " Client 5 Epoch 2: Loss = 1.7195, Accuracy = 24.98%\n",
      " Client 5 Epoch 3: Loss = 1.6582, Accuracy = 30.78%\n",
      "\n",
      " Client 6: Local Training\n",
      "--------------------------------------------------\n",
      " Client 6 Epoch 1: Loss = 1.4372, Accuracy = 51.17%\n",
      " Client 6 Epoch 2: Loss = 1.0993, Accuracy = 60.01%\n",
      " Client 6 Epoch 3: Loss = 0.9402, Accuracy = 69.24%\n",
      "\n",
      " Client 7: Local Training\n",
      "--------------------------------------------------\n",
      " Client 7 Epoch 1: Loss = 1.7949, Accuracy = 30.16%\n",
      " Client 7 Epoch 2: Loss = 1.5089, Accuracy = 34.98%\n",
      " Client 7 Epoch 3: Loss = 1.3141, Accuracy = 46.04%\n",
      "\n",
      " Client 8: Local Training\n",
      "--------------------------------------------------\n",
      " Client 8 Epoch 1: Loss = 1.8171, Accuracy = 27.59%\n",
      " Client 8 Epoch 2: Loss = 1.5490, Accuracy = 28.63%\n",
      " Client 8 Epoch 3: Loss = 1.4730, Accuracy = 35.17%\n",
      "\n",
      " Client 9: Local Training\n",
      "--------------------------------------------------\n",
      " Client 9 Epoch 1: Loss = 1.7554, Accuracy = 28.82%\n",
      " Client 9 Epoch 2: Loss = 1.4282, Accuracy = 29.77%\n",
      " Client 9 Epoch 3: Loss = 1.3138, Accuracy = 38.05%\n",
      "\n",
      " Client 10: Local Training\n",
      "--------------------------------------------------\n",
      " Client 10 Epoch 1: Loss = 1.5653, Accuracy = 37.07%\n",
      " Client 10 Epoch 2: Loss = 1.2563, Accuracy = 41.86%\n",
      " Client 10 Epoch 3: Loss = 1.0991, Accuracy = 55.83%\n",
      "\n",
      " Client 11: Local Training\n",
      "--------------------------------------------------\n",
      " Client 11 Epoch 1: Loss = 1.7866, Accuracy = 30.19%\n",
      " Client 11 Epoch 2: Loss = 1.4955, Accuracy = 35.08%\n",
      " Client 11 Epoch 3: Loss = 1.4217, Accuracy = 39.51%\n",
      "\n",
      " Client 12: Local Training\n",
      "--------------------------------------------------\n",
      " Client 12 Epoch 1: Loss = 1.7328, Accuracy = 36.49%\n",
      " Client 12 Epoch 2: Loss = 1.2419, Accuracy = 55.28%\n",
      " Client 12 Epoch 3: Loss = 1.1757, Accuracy = 57.34%\n",
      "\n",
      " Client 13: Local Training\n",
      "--------------------------------------------------\n",
      " Client 13 Epoch 1: Loss = 1.6784, Accuracy = 49.57%\n",
      " Client 13 Epoch 2: Loss = 1.3287, Accuracy = 51.34%\n",
      " Client 13 Epoch 3: Loss = 1.2464, Accuracy = 56.25%\n",
      "\n",
      " Client 14: Local Training\n",
      "--------------------------------------------------\n",
      " Client 14 Epoch 1: Loss = 1.7513, Accuracy = 29.55%\n",
      " Client 14 Epoch 2: Loss = 1.1810, Accuracy = 40.27%\n",
      " Client 14 Epoch 3: Loss = 1.0715, Accuracy = 47.97%\n",
      "\n",
      " Client 15: Local Training\n",
      "--------------------------------------------------\n",
      " Client 15 Epoch 1: Loss = 1.6216, Accuracy = 34.26%\n",
      " Client 15 Epoch 2: Loss = 1.3356, Accuracy = 39.66%\n",
      " Client 15 Epoch 3: Loss = 1.2606, Accuracy = 40.97%\n",
      "\n",
      " Client 16: Local Training\n",
      "--------------------------------------------------\n",
      " Client 16 Epoch 1: Loss = 1.8460, Accuracy = 30.57%\n",
      " Client 16 Epoch 2: Loss = 1.5013, Accuracy = 40.55%\n",
      " Client 16 Epoch 3: Loss = 1.3757, Accuracy = 44.40%\n",
      "\n",
      " Client 17: Local Training\n",
      "--------------------------------------------------\n",
      " Client 17 Epoch 1: Loss = 1.6570, Accuracy = 35.73%\n",
      " Client 17 Epoch 2: Loss = 1.2818, Accuracy = 48.00%\n",
      " Client 17 Epoch 3: Loss = 1.1726, Accuracy = 57.13%\n",
      "\n",
      " Client 18: Local Training\n",
      "--------------------------------------------------\n",
      " Client 18 Epoch 1: Loss = 1.8551, Accuracy = 26.99%\n",
      " Client 18 Epoch 2: Loss = 1.4890, Accuracy = 37.50%\n",
      " Client 18 Epoch 3: Loss = 1.3045, Accuracy = 46.74%\n",
      "\n",
      " Client 19: Local Training\n",
      "--------------------------------------------------\n",
      " Client 19 Epoch 1: Loss = 1.5274, Accuracy = 42.17%\n",
      " Client 19 Epoch 2: Loss = 1.0952, Accuracy = 58.50%\n",
      " Client 19 Epoch 3: Loss = 1.1093, Accuracy = 57.40%\n",
      "\n",
      " Client 20: Local Training\n",
      "--------------------------------------------------\n",
      " Client 20 Epoch 1: Loss = 1.6248, Accuracy = 45.03%\n",
      " Client 20 Epoch 2: Loss = 1.2637, Accuracy = 49.30%\n",
      " Client 20 Epoch 3: Loss = 1.2288, Accuracy = 49.30%\n",
      "\n",
      " Client 21: Local Training\n",
      "--------------------------------------------------\n",
      " Client 21 Epoch 1: Loss = 1.6478, Accuracy = 36.34%\n",
      " Client 21 Epoch 2: Loss = 1.3223, Accuracy = 36.98%\n",
      " Client 21 Epoch 3: Loss = 1.1356, Accuracy = 57.15%\n",
      "\n",
      " Client 22: Local Training\n",
      "--------------------------------------------------\n",
      " Client 22 Epoch 1: Loss = 1.7172, Accuracy = 41.85%\n",
      " Client 22 Epoch 2: Loss = 1.4510, Accuracy = 44.95%\n",
      " Client 22 Epoch 3: Loss = 1.4671, Accuracy = 45.45%\n",
      "\n",
      " Client 23: Local Training\n",
      "--------------------------------------------------\n",
      " Client 23 Epoch 1: Loss = 1.6702, Accuracy = 42.56%\n",
      " Client 23 Epoch 2: Loss = 1.4326, Accuracy = 46.63%\n"
     ]
    },
    {
     "name": "stderr",
     "output_type": "stream",
     "text": [
      "Traceback (most recent call last):\n",
      "  File \"<string>\", line 1, in <module>\n",
      "  File \"/opt/homebrew/Cellar/python@3.11/3.11.11/Frameworks/Python.framework/Versions/3.11/lib/python3.11/multiprocessing/spawn.py\", line 122, in spawn_main\n",
      "    exitcode = _main(fd, parent_sentinel)\n",
      "               ^^^^^^^^^^^^^^^^^^^^^^^^^^\n",
      "  File \"/opt/homebrew/Cellar/python@3.11/3.11.11/Frameworks/Python.framework/Versions/3.11/lib/python3.11/multiprocessing/spawn.py\", line 132, in _main\n",
      "    self = reduction.pickle.load(from_parent)\n",
      "           ^^^^^^^^^^^^^^^^^^^^^^^^^^^^^^^^^^\n",
      "  File \"/Users/jaanumacbook/FYP/Implementations/FL-Implimentation/.venv/lib/python3.11/site-packages/torch/__init__.py\", line 409, in <module>\n",
      "    from torch._C import *  # noqa: F403\n",
      "    ^^^^^^^^^^^^^^^^^^^^^^\n",
      "  File \"<frozen importlib._bootstrap>\", line 216, in _lock_unlock_module\n",
      "KeyboardInterrupt\n"
     ]
    },
    {
     "ename": "KeyboardInterrupt",
     "evalue": "",
     "output_type": "error",
     "traceback": [
      "\u001b[31m---------------------------------------------------------------------------\u001b[39m",
      "\u001b[31mKeyboardInterrupt\u001b[39m                         Traceback (most recent call last)",
      "\u001b[36mCell\u001b[39m\u001b[36m \u001b[39m\u001b[32mIn[27]\u001b[39m\u001b[32m, line 23\u001b[39m\n\u001b[32m     20\u001b[39m     \u001b[38;5;66;03m# Load client dataloaders\u001b[39;00m\n\u001b[32m     21\u001b[39m     client_trainloader, _ = load_data_from_disk(i)\n\u001b[32m---> \u001b[39m\u001b[32m23\u001b[39m     client_params = \u001b[43mtrain_local\u001b[49m\u001b[43m(\u001b[49m\u001b[43mi\u001b[49m\u001b[43m,\u001b[49m\u001b[43m \u001b[49m\u001b[43mglobal_model\u001b[49m\u001b[43m,\u001b[49m\u001b[43m \u001b[49m\u001b[43mclient_trainloader\u001b[49m\u001b[43m,\u001b[49m\u001b[43m \u001b[49m\u001b[43mepochs\u001b[49m\u001b[43m=\u001b[49m\u001b[43mLOCAL_EPOCHS\u001b[49m\u001b[43m,\u001b[49m\u001b[43m \u001b[49m\u001b[43mdevice\u001b[49m\u001b[43m=\u001b[49m\u001b[43mdevice\u001b[49m\u001b[43m)\u001b[49m\n\u001b[32m     24\u001b[39m     local_params.append(client_params)\n\u001b[32m     26\u001b[39m \u001b[38;5;66;03m# Compute weight divergences\u001b[39;00m\n",
      "\u001b[36mCell\u001b[39m\u001b[36m \u001b[39m\u001b[32mIn[21]\u001b[39m\u001b[32m, line 14\u001b[39m, in \u001b[36mtrain_local\u001b[39m\u001b[34m(client_id, global_model, train_loader, epochs, device)\u001b[39m\n\u001b[32m     11\u001b[39m correct = \u001b[32m0\u001b[39m\n\u001b[32m     12\u001b[39m total = \u001b[32m0\u001b[39m\n\u001b[32m---> \u001b[39m\u001b[32m14\u001b[39m \u001b[43m\u001b[49m\u001b[38;5;28;43;01mfor\u001b[39;49;00m\u001b[43m \u001b[49m\u001b[43minputs\u001b[49m\u001b[43m,\u001b[49m\u001b[43m \u001b[49m\u001b[43mlabels\u001b[49m\u001b[43m \u001b[49m\u001b[38;5;129;43;01min\u001b[39;49;00m\u001b[43m \u001b[49m\u001b[43mtrain_loader\u001b[49m\u001b[43m:\u001b[49m\n\u001b[32m     15\u001b[39m \u001b[43m    \u001b[49m\u001b[43minputs\u001b[49m\u001b[43m,\u001b[49m\u001b[43m \u001b[49m\u001b[43mlabels\u001b[49m\u001b[43m \u001b[49m\u001b[43m=\u001b[49m\u001b[43m \u001b[49m\u001b[43minputs\u001b[49m\u001b[43m.\u001b[49m\u001b[43mto\u001b[49m\u001b[43m(\u001b[49m\u001b[43mdevice\u001b[49m\u001b[43m)\u001b[49m\u001b[43m,\u001b[49m\u001b[43m \u001b[49m\u001b[43mlabels\u001b[49m\u001b[43m.\u001b[49m\u001b[43mto\u001b[49m\u001b[43m(\u001b[49m\u001b[43mdevice\u001b[49m\u001b[43m)\u001b[49m\n\u001b[32m     17\u001b[39m \u001b[43m    \u001b[49m\u001b[43moptimizer\u001b[49m\u001b[43m.\u001b[49m\u001b[43mzero_grad\u001b[49m\u001b[43m(\u001b[49m\u001b[43m)\u001b[49m\n",
      "\u001b[36mFile \u001b[39m\u001b[32m~/FYP/Implementations/FL-Implimentation/.venv/lib/python3.11/site-packages/torch/utils/data/dataloader.py:493\u001b[39m, in \u001b[36mDataLoader.__iter__\u001b[39m\u001b[34m(self)\u001b[39m\n\u001b[32m    491\u001b[39m     \u001b[38;5;28;01mreturn\u001b[39;00m \u001b[38;5;28mself\u001b[39m._iterator\n\u001b[32m    492\u001b[39m \u001b[38;5;28;01melse\u001b[39;00m:\n\u001b[32m--> \u001b[39m\u001b[32m493\u001b[39m     \u001b[38;5;28;01mreturn\u001b[39;00m \u001b[38;5;28;43mself\u001b[39;49m\u001b[43m.\u001b[49m\u001b[43m_get_iterator\u001b[49m\u001b[43m(\u001b[49m\u001b[43m)\u001b[49m\n",
      "\u001b[36mFile \u001b[39m\u001b[32m~/FYP/Implementations/FL-Implimentation/.venv/lib/python3.11/site-packages/torch/utils/data/dataloader.py:424\u001b[39m, in \u001b[36mDataLoader._get_iterator\u001b[39m\u001b[34m(self)\u001b[39m\n\u001b[32m    422\u001b[39m \u001b[38;5;28;01melse\u001b[39;00m:\n\u001b[32m    423\u001b[39m     \u001b[38;5;28mself\u001b[39m.check_worker_number_rationality()\n\u001b[32m--> \u001b[39m\u001b[32m424\u001b[39m     \u001b[38;5;28;01mreturn\u001b[39;00m \u001b[43m_MultiProcessingDataLoaderIter\u001b[49m\u001b[43m(\u001b[49m\u001b[38;5;28;43mself\u001b[39;49m\u001b[43m)\u001b[49m\n",
      "\u001b[36mFile \u001b[39m\u001b[32m~/FYP/Implementations/FL-Implimentation/.venv/lib/python3.11/site-packages/torch/utils/data/dataloader.py:1171\u001b[39m, in \u001b[36m_MultiProcessingDataLoaderIter.__init__\u001b[39m\u001b[34m(self, loader)\u001b[39m\n\u001b[32m   1164\u001b[39m w.daemon = \u001b[38;5;28;01mTrue\u001b[39;00m\n\u001b[32m   1165\u001b[39m \u001b[38;5;66;03m# NB: Process.start() actually take some time as it needs to\u001b[39;00m\n\u001b[32m   1166\u001b[39m \u001b[38;5;66;03m#     start a process and pass the arguments over via a pipe.\u001b[39;00m\n\u001b[32m   1167\u001b[39m \u001b[38;5;66;03m#     Therefore, we only add a worker to self._workers list after\u001b[39;00m\n\u001b[32m   1168\u001b[39m \u001b[38;5;66;03m#     it started, so that we do not call .join() if program dies\u001b[39;00m\n\u001b[32m   1169\u001b[39m \u001b[38;5;66;03m#     before it starts, and __del__ tries to join but will get:\u001b[39;00m\n\u001b[32m   1170\u001b[39m \u001b[38;5;66;03m#     AssertionError: can only join a started process.\u001b[39;00m\n\u001b[32m-> \u001b[39m\u001b[32m1171\u001b[39m \u001b[43mw\u001b[49m\u001b[43m.\u001b[49m\u001b[43mstart\u001b[49m\u001b[43m(\u001b[49m\u001b[43m)\u001b[49m\n\u001b[32m   1172\u001b[39m \u001b[38;5;28mself\u001b[39m._index_queues.append(index_queue)\n\u001b[32m   1173\u001b[39m \u001b[38;5;28mself\u001b[39m._workers.append(w)\n",
      "\u001b[36mFile \u001b[39m\u001b[32m/opt/homebrew/Cellar/python@3.11/3.11.11/Frameworks/Python.framework/Versions/3.11/lib/python3.11/multiprocessing/process.py:121\u001b[39m, in \u001b[36mBaseProcess.start\u001b[39m\u001b[34m(self)\u001b[39m\n\u001b[32m    118\u001b[39m \u001b[38;5;28;01massert\u001b[39;00m \u001b[38;5;129;01mnot\u001b[39;00m _current_process._config.get(\u001b[33m'\u001b[39m\u001b[33mdaemon\u001b[39m\u001b[33m'\u001b[39m), \\\n\u001b[32m    119\u001b[39m        \u001b[33m'\u001b[39m\u001b[33mdaemonic processes are not allowed to have children\u001b[39m\u001b[33m'\u001b[39m\n\u001b[32m    120\u001b[39m _cleanup()\n\u001b[32m--> \u001b[39m\u001b[32m121\u001b[39m \u001b[38;5;28mself\u001b[39m._popen = \u001b[38;5;28;43mself\u001b[39;49m\u001b[43m.\u001b[49m\u001b[43m_Popen\u001b[49m\u001b[43m(\u001b[49m\u001b[38;5;28;43mself\u001b[39;49m\u001b[43m)\u001b[49m\n\u001b[32m    122\u001b[39m \u001b[38;5;28mself\u001b[39m._sentinel = \u001b[38;5;28mself\u001b[39m._popen.sentinel\n\u001b[32m    123\u001b[39m \u001b[38;5;66;03m# Avoid a refcycle if the target function holds an indirect\u001b[39;00m\n\u001b[32m    124\u001b[39m \u001b[38;5;66;03m# reference to the process object (see bpo-30775)\u001b[39;00m\n",
      "\u001b[36mFile \u001b[39m\u001b[32m/opt/homebrew/Cellar/python@3.11/3.11.11/Frameworks/Python.framework/Versions/3.11/lib/python3.11/multiprocessing/context.py:224\u001b[39m, in \u001b[36mProcess._Popen\u001b[39m\u001b[34m(process_obj)\u001b[39m\n\u001b[32m    222\u001b[39m \u001b[38;5;129m@staticmethod\u001b[39m\n\u001b[32m    223\u001b[39m \u001b[38;5;28;01mdef\u001b[39;00m\u001b[38;5;250m \u001b[39m\u001b[34m_Popen\u001b[39m(process_obj):\n\u001b[32m--> \u001b[39m\u001b[32m224\u001b[39m     \u001b[38;5;28;01mreturn\u001b[39;00m \u001b[43m_default_context\u001b[49m\u001b[43m.\u001b[49m\u001b[43mget_context\u001b[49m\u001b[43m(\u001b[49m\u001b[43m)\u001b[49m\u001b[43m.\u001b[49m\u001b[43mProcess\u001b[49m\u001b[43m.\u001b[49m\u001b[43m_Popen\u001b[49m\u001b[43m(\u001b[49m\u001b[43mprocess_obj\u001b[49m\u001b[43m)\u001b[49m\n",
      "\u001b[36mFile \u001b[39m\u001b[32m/opt/homebrew/Cellar/python@3.11/3.11.11/Frameworks/Python.framework/Versions/3.11/lib/python3.11/multiprocessing/context.py:288\u001b[39m, in \u001b[36mSpawnProcess._Popen\u001b[39m\u001b[34m(process_obj)\u001b[39m\n\u001b[32m    285\u001b[39m \u001b[38;5;129m@staticmethod\u001b[39m\n\u001b[32m    286\u001b[39m \u001b[38;5;28;01mdef\u001b[39;00m\u001b[38;5;250m \u001b[39m\u001b[34m_Popen\u001b[39m(process_obj):\n\u001b[32m    287\u001b[39m     \u001b[38;5;28;01mfrom\u001b[39;00m\u001b[38;5;250m \u001b[39m\u001b[34;01m.\u001b[39;00m\u001b[34;01mpopen_spawn_posix\u001b[39;00m\u001b[38;5;250m \u001b[39m\u001b[38;5;28;01mimport\u001b[39;00m Popen\n\u001b[32m--> \u001b[39m\u001b[32m288\u001b[39m     \u001b[38;5;28;01mreturn\u001b[39;00m \u001b[43mPopen\u001b[49m\u001b[43m(\u001b[49m\u001b[43mprocess_obj\u001b[49m\u001b[43m)\u001b[49m\n",
      "\u001b[36mFile \u001b[39m\u001b[32m/opt/homebrew/Cellar/python@3.11/3.11.11/Frameworks/Python.framework/Versions/3.11/lib/python3.11/multiprocessing/popen_spawn_posix.py:32\u001b[39m, in \u001b[36mPopen.__init__\u001b[39m\u001b[34m(self, process_obj)\u001b[39m\n\u001b[32m     30\u001b[39m \u001b[38;5;28;01mdef\u001b[39;00m\u001b[38;5;250m \u001b[39m\u001b[34m__init__\u001b[39m(\u001b[38;5;28mself\u001b[39m, process_obj):\n\u001b[32m     31\u001b[39m     \u001b[38;5;28mself\u001b[39m._fds = []\n\u001b[32m---> \u001b[39m\u001b[32m32\u001b[39m     \u001b[38;5;28;43msuper\u001b[39;49m\u001b[43m(\u001b[49m\u001b[43m)\u001b[49m\u001b[43m.\u001b[49m\u001b[34;43m__init__\u001b[39;49m\u001b[43m(\u001b[49m\u001b[43mprocess_obj\u001b[49m\u001b[43m)\u001b[49m\n",
      "\u001b[36mFile \u001b[39m\u001b[32m/opt/homebrew/Cellar/python@3.11/3.11.11/Frameworks/Python.framework/Versions/3.11/lib/python3.11/multiprocessing/popen_fork.py:19\u001b[39m, in \u001b[36mPopen.__init__\u001b[39m\u001b[34m(self, process_obj)\u001b[39m\n\u001b[32m     17\u001b[39m \u001b[38;5;28mself\u001b[39m.returncode = \u001b[38;5;28;01mNone\u001b[39;00m\n\u001b[32m     18\u001b[39m \u001b[38;5;28mself\u001b[39m.finalizer = \u001b[38;5;28;01mNone\u001b[39;00m\n\u001b[32m---> \u001b[39m\u001b[32m19\u001b[39m \u001b[38;5;28;43mself\u001b[39;49m\u001b[43m.\u001b[49m\u001b[43m_launch\u001b[49m\u001b[43m(\u001b[49m\u001b[43mprocess_obj\u001b[49m\u001b[43m)\u001b[49m\n",
      "\u001b[36mFile \u001b[39m\u001b[32m/opt/homebrew/Cellar/python@3.11/3.11.11/Frameworks/Python.framework/Versions/3.11/lib/python3.11/multiprocessing/popen_spawn_posix.py:62\u001b[39m, in \u001b[36mPopen._launch\u001b[39m\u001b[34m(self, process_obj)\u001b[39m\n\u001b[32m     60\u001b[39m     \u001b[38;5;28mself\u001b[39m.sentinel = parent_r\n\u001b[32m     61\u001b[39m     \u001b[38;5;28;01mwith\u001b[39;00m \u001b[38;5;28mopen\u001b[39m(parent_w, \u001b[33m'\u001b[39m\u001b[33mwb\u001b[39m\u001b[33m'\u001b[39m, closefd=\u001b[38;5;28;01mFalse\u001b[39;00m) \u001b[38;5;28;01mas\u001b[39;00m f:\n\u001b[32m---> \u001b[39m\u001b[32m62\u001b[39m         f.write(fp.getbuffer())\n\u001b[32m     63\u001b[39m \u001b[38;5;28;01mfinally\u001b[39;00m:\n\u001b[32m     64\u001b[39m     fds_to_close = []\n",
      "\u001b[31mKeyboardInterrupt\u001b[39m: "
     ]
    }
   ],
   "source": [
    "# Federated Training Loop\n",
    "\n",
    "accuracy_list = []\n",
    "loss_list = []\n",
    "weight_divergences_list = []\n",
    "\n",
    "for fl_round in range(FL_ROUNDS):\n",
    "    print(f\"\\n--- Federated Learning Round {fl_round+1} ---\")\n",
    "\n",
    "    # Train reference client\n",
    "    print(f\"\\n Reference Client Training:\")\n",
    "    reference_params = train_local(\"ref\" ,global_model, reference_loader, epochs=LOCAL_EPOCHS, device=device)\n",
    "\n",
    "    # Train all clients\n",
    "    local_params = []\n",
    "    for i in range(NUM_CLIENTS):\n",
    "        print(f\"\\n Client {i}: Local Training\")\n",
    "        print(\"--------------------------------------------------\")\n",
    "\n",
    "        # Load client dataloaders\n",
    "        client_trainloader, _ = load_data_from_disk(i)\n",
    "\n",
    "        client_params = train_local(i, global_model, client_trainloader, epochs=LOCAL_EPOCHS, device=device)\n",
    "        local_params.append(client_params)\n",
    "\n",
    "    # Compute weight divergences\n",
    "    weight_divergences = []\n",
    "    for client_params in local_params:\n",
    "        weight_divergence = calculate_normalized_weight_divergence(reference_params, client_params)\n",
    "        weight_divergences.append(weight_divergence)\n",
    "    print(f\"\\n Divergence : {weight_divergences}\")\n",
    "    weight_divergences_list.append(weight_divergences)\n",
    "\n",
    "    # Normalize divergences to get weights\n",
    "    d_min = min(weight_divergences)\n",
    "    d_max = max(weight_divergences)\n",
    "    weights = [(1 - (d - d_min) / (d_max - d_min)) for d in weight_divergences]\n",
    "    print(f\"\\n IId Nature Measure : {weights}\")\n",
    "\n",
    "    # Aggregate\n",
    "    global_params = weighted_fed_avg(local_params, weights)\n",
    "    global_model.load_state_dict(global_params)\n",
    "\n",
    "    # Test\n",
    "    test_loader = load_data_from_disk(0, only_server_test_data=True)  # Load server test data\n",
    "    accuracy, loss = test_model(global_model, test_loader, device=device)\n",
    "    accuracy_list.append(accuracy)\n",
    "    loss_list.append(loss)\n",
    "    \n",
    "    print(f\"\\nFederated Learning Round {fl_round+1}:\")\n",
    "    print(f\"  Accuracy: {accuracy:.2f}%, Loss: {loss:.4f}\")"
   ]
  },
  {
   "cell_type": "code",
   "execution_count": null,
   "metadata": {},
   "outputs": [],
   "source": [
    "import pickle\n",
    "\n",
    "with open('/kaggle/working/weight_divergence_accuracy_history.pkl', 'wb') as f:\n",
    "    pickle.dump(accuracy_list, f)\n",
    "\n",
    "with open('/kaggle/working/weight_divergence_history.pkl', 'wb') as f:\n",
    "    pickle.dump(weight_divergences_list, f)\n"
   ]
  },
  {
   "cell_type": "code",
   "execution_count": 26,
   "metadata": {
    "execution": {
     "iopub.execute_input": "2025-05-28T10:35:34.277305Z",
     "iopub.status.busy": "2025-05-28T10:35:34.276802Z",
     "iopub.status.idle": "2025-05-28T10:35:34.510734Z",
     "shell.execute_reply": "2025-05-28T10:35:34.510125Z",
     "shell.execute_reply.started": "2025-05-28T10:35:34.277284Z"
    },
    "trusted": true
   },
   "outputs": [
    {
     "data": {
      "image/png": "[encoded data removed]",
      "text/plain": [
       "<Figure size 1000x600 with 1 Axes>"
      ]
     },
     "metadata": {},
     "output_type": "display_data"
    }
   ],
   "source": [
    "\n",
    "# Convert to numpy array: shape [rounds, clients]\n",
    "divergence_array = np.array(weight_divergences_list)\n",
    "\n",
    "# Compute average divergence per client\n",
    "average_divergence_per_client = divergence_array.mean(axis=0)\n",
    "\n",
    "# Assign colors: first 10 red, rest green\n",
    "colors = ['green' if i < 10 else 'red' for i in range(len(average_divergence_per_client))]\n",
    "\n",
    "# Plot\n",
    "plt.figure(figsize=(10, 6))\n",
    "plt.bar(range(len(average_divergence_per_client)), average_divergence_per_client, color=colors)\n",
    "plt.xlabel(\"Client ID\")\n",
    "plt.ylabel(\"Average Weight Divergence\")\n",
    "plt.title(\"Average Weight Divergence per Client Across FL Rounds\")\n",
    "plt.xticks(range(len(average_divergence_per_client)))\n",
    "plt.ylim(0.5, 0.6)  # Zoomed-in view\n",
    "plt.grid(axis='y')\n",
    "plt.tight_layout()\n",
    "plt.show()"
   ]
  },
  {
   "cell_type": "markdown",
   "metadata": {},
   "source": [
    "### Plot Accuracy Curve\n"
   ]
  },
  {
   "cell_type": "code",
   "execution_count": 38,
   "metadata": {
    "execution": {
     "iopub.execute_input": "2025-05-28T07:31:38.005995Z",
     "iopub.status.busy": "2025-05-28T07:31:38.005384Z",
     "iopub.status.idle": "2025-05-28T07:31:38.215863Z",
     "shell.execute_reply": "2025-05-28T07:31:38.215118Z",
     "shell.execute_reply.started": "2025-05-28T07:31:38.005972Z"
    },
    "trusted": true
   },
   "outputs": [
    {
     "data": {
      "image/png": "[encoded data removed]",
      "text/plain": [
       "<Figure size 1000x500 with 1 Axes>"
      ]
     },
     "metadata": {},
     "output_type": "display_data"
    }
   ],
   "source": [
    "\n",
    "plt.figure(figsize=(10, 5))\n",
    "plt.plot(range(1, FL_ROUNDS + 1), accuracy_list, marker='o')\n",
    "plt.xlabel('Round')\n",
    "plt.ylabel('Test Accuracy (%)')\n",
    "plt.title('Federated Learning with Weight Divergence on CIFAR-10')\n",
    "plt.grid(True)\n",
    "plt.xticks(range(1, 21))  # Set x-axis from 1 to 20\n",
    "plt.show()\n"
   ]
  }
 ],
 "metadata": {
  "kaggle": {
   "accelerator": "nvidiaTeslaT4",
   "dataSources": [],
   "dockerImageVersionId": 31041,
   "isGpuEnabled": true,
   "isInternetEnabled": true,
   "language": "python",
   "sourceType": "notebook"
  },
  "kernelspec": {
   "display_name": ".venv",
   "language": "python",
   "name": "python3"
  },
  "language_info": {
   "codemirror_mode": {
    "name": "ipython",
    "version": 3
   },
   "file_extension": ".py",
   "mimetype": "text/x-python",
   "name": "python",
   "nbconvert_exporter": "python",
   "pygments_lexer": "ipython3",
   "version": "3.11.11"
  }
 },
 "nbformat": 4,
 "nbformat_minor": 4
}
